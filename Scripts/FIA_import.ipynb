{
 "cells": [
  {
   "cell_type": "code",
   "execution_count": null,
   "metadata": {},
   "outputs": [],
   "source": [
    "https://www.fia.com/documents/championships/fia-formula-one-world-championship-14/season/season-2019-971/event/Abu%20Dhabi%20Grand%20Prix\n",
    "https://www.fia.com/documents/championships/fia-formula-one-world-championship-14/season/season-2020-1059/event/Abu%20Dhabi%20Grand%20Prix\n",
    "https://www.fia.com/documents/championships/fia-formula-one-world-championship-14/season/season-2021-1108/event/Abu%20Dhabi%20Grand%20Prix"
   ]
  },
  {
   "cell_type": "code",
   "execution_count": 165,
   "metadata": {},
   "outputs": [],
   "source": [
    "my_dict = {\n",
    "    'Abu Dhabi': [19, 20, 21],\n",
    "    'Australian': [19, 20],\n",
    "    'Austrian': [19, 20, 21],\n",
    "    'Azerbaijan': [19, 21],\n",
    "    'Bahrain': [19, 20, 21],\n",
    "    'Belgian': [19, 20, 21],\n",
    "    'Brazilian': [19, 21],\n",
    "    'British': [19, 20, 21],\n",
    "    'Dutch': [21],\n",
    "    'Canadian': [19],\n",
    "    'Chinese': [19],\n",
    "    'Eifel': [20],\n",
    "    'Emilia Romagna': [20, 21],\n",
    "    'Formula 1 70th Anniversary': [20],\n",
    "    'French': [19, 21],\n",
    "    'German': [19],\n",
    "    'Hungarian': [19, 20, 21],\n",
    "    'Italian': [19, 20, 21],\n",
    "    'Japanese': [19],\n",
    "    'Mexican': [19, 21],\n",
    "    'Monaco': [19, 21],\n",
    "    'Portuguese': [20, 21],\n",
    "    'Qatar': [21],\n",
    "    'Russian': [19, 20, 21],\n",
    "    'Sakhir': [20],\n",
    "    'Saudi Arabia': [21],\n",
    "    'Singapore': [19],\n",
    "    'Spanish': [19, 21],\n",
    "    'Styrian': [20, 21],\n",
    "    'Turkish': [20, 21],\n",
    "    'Tuscan': [20],\n",
    "    'United States': [19, 21]}"
   ]
  },
  {
   "cell_type": "code",
   "execution_count": 166,
   "metadata": {},
   "outputs": [],
   "source": [
    "import pandas as pd\n",
    "import os\n",
    "import requests\n",
    "from urllib.parse import urljoin\n",
    "from bs4 import BeautifulSoup"
   ]
  },
  {
   "cell_type": "code",
   "execution_count": 39,
   "metadata": {},
   "outputs": [],
   "source": []
  },
  {
   "cell_type": "code",
   "execution_count": 42,
   "metadata": {},
   "outputs": [],
   "source": [
    "# 2019 RACE FILES\n",
    "\n",
    "races_19 = [k for k, v in my_dict.items() if 19 in v]\n",
    "races_19 = [(k,\"https://www.fia.com/documents/championships/fia-formula-one-world-championship-14/season/season-2019-971/event/\" + k.replace(\" \",\"%20\") + \"%20Grand%20Prix\") for k in races_19]\n",
    "\n",
    "folder_location = '../Downloaded Data/2019'\n",
    "if not os.path.exists(folder_location):os.mkdir(folder_location)\n",
    "\n",
    "for (race, url) in races_19: \n",
    "    folder_location = '../Downloaded Data/2019/'+race\n",
    "    if not os.path.exists(folder_location):os.mkdir(folder_location)\n",
    "    response = requests.get(url)\n",
    "    soup = BeautifulSoup(response.text, \"html.parser\")     \n",
    "    for link in soup.select(\"a[href$='.pdf']\"):\n",
    "        filename = os.path.join(folder_location,link['href'].split('/')[-1])\n",
    "        with open(filename, 'wb') as f:\n",
    "            f.write(requests.get(urljoin(url,link['href'])).content)\n",
    "\n"
   ]
  },
  {
   "cell_type": "code",
   "execution_count": 168,
   "metadata": {},
   "outputs": [],
   "source": [
    "# 2020 RACE FILES\n",
    "\n",
    "races_20 = [k for k, v in my_dict.items() if 20 in v]\n",
    "races_20 = [(k,\"https://www.fia.com/documents/championships/fia-formula-one-world-championship-14/season/season-2020-1059/event/\" + k.replace(\" \",\"%20\") + \"%20Grand%20Prix\") for k in races_20]\n",
    "\n",
    "\n",
    "folder_location = '../Downloaded Data/2020'\n",
    "if not os.path.exists(folder_location):os.mkdir(folder_location)\n",
    "\n",
    "for (race, url) in races_20: \n",
    "    folder_location = '../Downloaded Data/2020/'+race\n",
    "    if not os.path.exists(folder_location):os.mkdir(folder_location)\n",
    "    response = requests.get(url)\n",
    "    soup = BeautifulSoup(response.text, \"html.parser\")     \n",
    "    for link in soup.select(\"a[href$='.pdf']\"):\n",
    "        filename = os.path.join(folder_location,link['href'].split('/')[-1])\n",
    "        with open(filename, 'wb') as f:\n",
    "            f.write(requests.get(urljoin(url,link['href'])).content)"
   ]
  },
  {
   "cell_type": "code",
   "execution_count": 170,
   "metadata": {},
   "outputs": [],
   "source": [
    "# 2021 RACE FILES\n",
    "\n",
    "races_21 = [k for k, v in my_dict.items() if 21 in v]\n",
    "races_21 = [(k,\"https://www.fia.com/documents/championships/fia-formula-one-world-championship-14/season/season-2021-1108/event/\" + k.replace(\" \",\"%20\") + \"%20Grand%20Prix\") for k in races_21]\n",
    "\n",
    "\n",
    "folder_location = '../Downloaded Data/2021'\n",
    "if not os.path.exists(folder_location):os.mkdir(folder_location)\n",
    "\n",
    "for (race, url) in races_21: \n",
    "    folder_location = '../Downloaded Data/2021/'+race\n",
    "    if not os.path.exists(folder_location):os.mkdir(folder_location)\n",
    "    response = requests.get(url)\n",
    "    soup = BeautifulSoup(response.text, \"html.parser\")     \n",
    "    for link in soup.select(\"a[href$='.pdf']\"):\n",
    "        filename = os.path.join(folder_location,link['href'].split('/')[-1])\n",
    "        with open(filename, 'wb') as f:\n",
    "            f.write(requests.get(urljoin(url,link['href'])).content)"
   ]
  },
  {
   "cell_type": "code",
   "execution_count": 158,
   "metadata": {},
   "outputs": [
    {
     "data": {
      "text/plain": [
       "{'australian-grand-prix': ['https://www.fia.com/events/fia-formula-one-world-championship/season-2019/eventtiming-information-1'],\n",
       " 'bahrain-grand-prix': ['https://www.fia.com/events/fia-formula-one-world-championship/season-2019/eventtiming-information-3'],\n",
       " 'chinese-grand-prix': ['https://www.fia.com/events/fia-formula-one-world-championship/season-2019/eventtiming-information-7'],\n",
       " 'azerbaijan-grand-prix-0': ['https://www.fia.com/events/fia-formula-one-world-championship/season-2019/eventtiming-information-8'],\n",
       " 'spanish-grand-prix': ['https://www.fia.com/events/fia-formula-one-world-championship/season-2019/eventtiming-information-10'],\n",
       " 'monaco-grand-prix': ['https://www.fia.com/events/fia-formula-one-world-championship/season-2019/eventtiming-information-11'],\n",
       " 'canadian-grand-prix': ['https://www.fia.com/events/fia-formula-one-world-championship/season-2019/eventtiming-information-13'],\n",
       " 'french-grand-prix': ['https://www.fia.com/events/fia-formula-one-world-championship/season-2019/eventtiming-information-14'],\n",
       " 'british-grand-prix': ['https://www.fia.com/events/fia-formula-one-world-championship/season-2019/eventtiming-information-15'],\n",
       " 'german-grand-prix': ['https://www.fia.com/events/fia-formula-one-world-championship/season-2019/eventtiming-information-20'],\n",
       " 'hungarian-grand-prix-0': ['https://www.fia.com/events/fia-formula-one-world-championship/season-2019/eventtiming-information11'],\n",
       " 'belgian-grand-prix': ['https://www.fia.com/events/fia-formula-one-world-championship/season-2019/eventtiming-information-4'],\n",
       " 'italian-grand-prix': ['https://www.fia.com/events/fia-formula-one-world-championship/season-2019/eventtiming-information-5'],\n",
       " 'singapore-grand-prix': ['https://www.fia.com/events/fia-formula-one-world-championship/season-2019/eventtiming-information-17'],\n",
       " 'russian-grand-prix': ['https://www.fia.com/events/fia-formula-one-world-championship/season-2019/eventtiming-information-6'],\n",
       " 'japanese-grand-prix': ['https://www.fia.com/events/fia-formula-one-world-championship/season-2019/eventtiming-information-9'],\n",
       " 'mexican-grand-prix': ['https://www.fia.com/events/fia-formula-one-world-championship/season-2019/eventtiming-information-12'],\n",
       " 'united-states-grand-prix': ['https://www.fia.com/events/fia-formula-one-world-championship/season-2019/eventtiming-information-16'],\n",
       " 'brazilian-grand-prix-0': ['https://www.fia.com/events/fia-formula-one-world-championship/season-2019/eventtiming-information-22'],\n",
       " 'abu-dhabi-grand-prix-0': ['https://www.fia.com/events/fia-formula-one-world-championship/season-2019/eventtiming-information-21'],\n",
       " 'austrian-grand-prix': ['https://www.fia.com/eventtiming-information']}"
      ]
     },
     "execution_count": 158,
     "metadata": {},
     "output_type": "execute_result"
    }
   ],
   "source": [
    "# 2019 ALL TIMINGS\n",
    "\n",
    "links = []\n",
    "url = \"https://www.fia.com/f1-archives?season=971\"\n",
    "response = requests.get(url)\n",
    "soup = BeautifulSoup(response.text, \"html.parser\")     \n",
    "for link in soup.findAll('a'):\n",
    "    links.append(link.get('href'))\n",
    "\n",
    "links = [link for link in links if \"/events/fia-formula-one-world-championship\" in link]\n",
    "links = [\"https://www.fia.com\" + link if \"https://www.fia.com\" not in link else link for link in links]\n",
    "links = [link for link in links if \"2019\" in link]\n",
    "links = [link.replace(\"https://admin.fia.com\",\"\") for link in links]\n",
    "\n",
    "master_dict = {}\n",
    "key = \"season\"\n",
    "i = 1\n",
    "for link in links:\n",
    "    if 'https://www.fia.com/championship/events/fia-formula-one-world-championship/season-2019/' in link:\n",
    "        key = link.replace('https://www.fia.com/championship/events/fia-formula-one-world-championship/season-2019/','')\n",
    "        master_dict.update({key:[link]})\n",
    "    elif i == 1:\n",
    "        key = \"season\"\n",
    "        master_dict.update({key:[link]})   \n",
    "    else:\n",
    "        my_list = master_dict[key]\n",
    "        my_list.append(link)\n",
    "        master_dict.update({key:my_list})\n",
    "    i = 0\n",
    "    \n",
    "urls = {a:[link for link in b if \"eventtiming\" in link] for (a,b) in master_dict.items()}\n",
    "del(urls[\"season\"])\n",
    "urls.update({'austrian-grand-prix': ['https://www.fia.com/eventtiming-information']})\n",
    "urls\n"
   ]
  },
  {
   "cell_type": "code",
   "execution_count": 164,
   "metadata": {},
   "outputs": [],
   "source": [
    "folder_location = '../Downloaded Data/2019'\n",
    "if not os.path.exists(folder_location):os.mkdir(folder_location)\n",
    "\n",
    "for (race, url) in urls.items():\n",
    "    race = race.replace(\"-0\",\"\").replace(\"-grand-prix\",\"\").replace(\"-\",\" \").title()\n",
    "    folder_location = '../Downloaded Data/2019/'+race\n",
    "    if not os.path.exists(folder_location):os.mkdir(folder_location)\n",
    "    response = requests.get(url[0])\n",
    "    soup= BeautifulSoup(response.text, \"html.parser\")     \n",
    "    for link in soup.select(\"a[href$='.pdf']\"):\n",
    "        filename = os.path.join(folder_location,link['href'].split('/')[-1])\n",
    "        with open(filename, 'wb') as f:\n",
    "            f.write(requests.get(urljoin(url[0],link['href'])).content)"
   ]
  },
  {
   "cell_type": "code",
   "execution_count": null,
   "metadata": {},
   "outputs": [],
   "source": [
    "https://www.fia.com/f1-archives?season=1059"
   ]
  }
 ],
 "metadata": {
  "interpreter": {
   "hash": "40d3a090f54c6569ab1632332b64b2c03c39dcf918b08424e98f38b5ae0af88f"
  },
  "kernelspec": {
   "display_name": "Python 3.8.5",
   "language": "python",
   "name": "python3"
  },
  "language_info": {
   "codemirror_mode": {
    "name": "ipython",
    "version": 3
   },
   "file_extension": ".py",
   "mimetype": "text/x-python",
   "name": "python",
   "nbconvert_exporter": "python",
   "pygments_lexer": "ipython3",
   "version": "3.8.5"
  },
  "orig_nbformat": 4
 },
 "nbformat": 4,
 "nbformat_minor": 2
}
