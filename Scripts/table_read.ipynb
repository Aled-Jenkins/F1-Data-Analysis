{
 "cells": [
  {
   "cell_type": "code",
   "execution_count": 48,
   "metadata": {},
   "outputs": [],
   "source": [
    "import os\n",
    "import tabula\n",
    "import pandas as pd\n",
    "import re\n",
    "from PyPDF2 import PdfReader\n",
    "\n",
    "    "
   ]
  },
  {
   "cell_type": "code",
   "execution_count": 5,
   "metadata": {},
   "outputs": [],
   "source": [
    "file = '../Downloaded Data/2021/Abu Dhabi/2021_22_uae_f1_p1_timing_firstpracticesessionlaptimes_v01.pdf'"
   ]
  },
  {
   "cell_type": "code",
   "execution_count": 226,
   "metadata": {},
   "outputs": [],
   "source": [
    "reader = PdfReader(file)\n",
    "text = \"\"\n",
    "for page in reader.pages:\n",
    "    text += page.extract_text() + \"\\n\"\n",
    "    \n",
    "text = text.replace(\"\\n\",\"\")\n",
    "text = re.sub('(\\.\\d{3})(\\d+)',r'\\1 \\2', text)\n",
    "text = re.sub('(\\d+)(\\s{2,})',r'-\\1 ', text)\n",
    "text = re.split('-', text)\n",
    "text = [x for x in text if x]\n",
    "times = pd.DataFrame()\n",
    "for i in text:\n",
    "    i = re.sub(\"(\\.\\d{3})[a-zA-Z].+\",r\"\\1\",i)\n",
    "    i = re.sub(\"(\\d)(P)(\\d)\",r\"\\1 \\2 \\3\", i)\n",
    "    i = re.sub(\"NOTIME\", \" \", i)\n",
    "    i = re.sub(\" (\\d{1,2} (P )?\\d:\\d{2}\\.\\d{3})\",r\"-\\1\", i)\n",
    "    i = re.split(\"-\", i)\n",
    "    if len(i) > 1:\n",
    "        driver_info = re.split(' ', i[0], maxsplit = 1)\n",
    "        driver_name = driver_info[1]\n",
    "        driver_number = driver_info[0]\n",
    "        driver_laptimes = i[1:]\n",
    "        for lap in driver_laptimes:\n",
    "            lap_pit = \"P\" if \"P\" in lap else \"\"\n",
    "            lap = re.sub(\"P \",\"\", lap)\n",
    "            lap_info = re.split(' ', lap, maxsplit = 1)\n",
    "            lap_number = int(lap_info[0])\n",
    "            lap_time = lap_info[1]\n",
    "            temp_df = pd.DataFrame({\"Driver Name\":[driver_name], \"Driver Number\":[driver_number], \"Lap Number\":[lap_number], \"Lap Time\":[lap_time], \"Pit\":[lap_pit]})\n",
    "            times = times.append(temp_df)"
   ]
  },
  {
   "cell_type": "code",
   "execution_count": 225,
   "metadata": {},
   "outputs": [
    {
     "data": {
      "text/html": [
       "<div>\n",
       "<style scoped>\n",
       "    .dataframe tbody tr th:only-of-type {\n",
       "        vertical-align: middle;\n",
       "    }\n",
       "\n",
       "    .dataframe tbody tr th {\n",
       "        vertical-align: top;\n",
       "    }\n",
       "\n",
       "    .dataframe thead th {\n",
       "        text-align: right;\n",
       "    }\n",
       "</style>\n",
       "<table border=\"1\" class=\"dataframe\">\n",
       "  <thead>\n",
       "    <tr style=\"text-align: right;\">\n",
       "      <th></th>\n",
       "      <th>Driver Name</th>\n",
       "      <th>Driver Number</th>\n",
       "      <th>Lap Number</th>\n",
       "      <th>Lap Time</th>\n",
       "      <th>Pit</th>\n",
       "    </tr>\n",
       "  </thead>\n",
       "  <tbody>\n",
       "    <tr>\n",
       "      <th>0</th>\n",
       "      <td>Daniel RICCIARDO</td>\n",
       "      <td>3</td>\n",
       "      <td>16</td>\n",
       "      <td>1:31.187</td>\n",
       "      <td></td>\n",
       "    </tr>\n",
       "    <tr>\n",
       "      <th>0</th>\n",
       "      <td>Daniel RICCIARDO</td>\n",
       "      <td>3</td>\n",
       "      <td>17</td>\n",
       "      <td>1:30.502</td>\n",
       "      <td></td>\n",
       "    </tr>\n",
       "    <tr>\n",
       "      <th>0</th>\n",
       "      <td>Daniel RICCIARDO</td>\n",
       "      <td>3</td>\n",
       "      <td>18</td>\n",
       "      <td>1:30.892</td>\n",
       "      <td></td>\n",
       "    </tr>\n",
       "    <tr>\n",
       "      <th>0</th>\n",
       "      <td>Daniel RICCIARDO</td>\n",
       "      <td>3</td>\n",
       "      <td>19</td>\n",
       "      <td>1:32.179</td>\n",
       "      <td></td>\n",
       "    </tr>\n",
       "    <tr>\n",
       "      <th>0</th>\n",
       "      <td>Daniel RICCIARDO</td>\n",
       "      <td>3</td>\n",
       "      <td>20</td>\n",
       "      <td>1:31.220</td>\n",
       "      <td></td>\n",
       "    </tr>\n",
       "    <tr>\n",
       "      <th>...</th>\n",
       "      <td>...</td>\n",
       "      <td>...</td>\n",
       "      <td>...</td>\n",
       "      <td>...</td>\n",
       "      <td>...</td>\n",
       "    </tr>\n",
       "    <tr>\n",
       "      <th>0</th>\n",
       "      <td>Antonio GIOVINAZZI</td>\n",
       "      <td>99</td>\n",
       "      <td>21</td>\n",
       "      <td>1:30.946</td>\n",
       "      <td></td>\n",
       "    </tr>\n",
       "    <tr>\n",
       "      <th>0</th>\n",
       "      <td>Antonio GIOVINAZZI</td>\n",
       "      <td>99</td>\n",
       "      <td>22</td>\n",
       "      <td>1:34.338</td>\n",
       "      <td></td>\n",
       "    </tr>\n",
       "    <tr>\n",
       "      <th>0</th>\n",
       "      <td>Antonio GIOVINAZZI</td>\n",
       "      <td>99</td>\n",
       "      <td>23</td>\n",
       "      <td>1:30.697</td>\n",
       "      <td></td>\n",
       "    </tr>\n",
       "    <tr>\n",
       "      <th>0</th>\n",
       "      <td>Antonio GIOVINAZZI</td>\n",
       "      <td>99</td>\n",
       "      <td>24</td>\n",
       "      <td>1:58.919</td>\n",
       "      <td></td>\n",
       "    </tr>\n",
       "    <tr>\n",
       "      <th>0</th>\n",
       "      <td>Antonio GIOVINAZZI</td>\n",
       "      <td>99</td>\n",
       "      <td>25</td>\n",
       "      <td>2:19.505</td>\n",
       "      <td>P</td>\n",
       "    </tr>\n",
       "  </tbody>\n",
       "</table>\n",
       "<p>245 rows × 5 columns</p>\n",
       "</div>"
      ],
      "text/plain": [
       "           Driver Name Driver Number  Lap Number  Lap Time Pit\n",
       "0     Daniel RICCIARDO             3          16  1:31.187    \n",
       "0     Daniel RICCIARDO             3          17  1:30.502    \n",
       "0     Daniel RICCIARDO             3          18  1:30.892    \n",
       "0     Daniel RICCIARDO             3          19  1:32.179    \n",
       "0     Daniel RICCIARDO             3          20  1:31.220    \n",
       "..                 ...           ...         ...       ...  ..\n",
       "0   Antonio GIOVINAZZI            99          21  1:30.946    \n",
       "0   Antonio GIOVINAZZI            99          22  1:34.338    \n",
       "0   Antonio GIOVINAZZI            99          23  1:30.697    \n",
       "0   Antonio GIOVINAZZI            99          24  1:58.919    \n",
       "0   Antonio GIOVINAZZI            99          25  2:19.505   P\n",
       "\n",
       "[245 rows x 5 columns]"
      ]
     },
     "execution_count": 225,
     "metadata": {},
     "output_type": "execute_result"
    }
   ],
   "source": []
  },
  {
   "cell_type": "code",
   "execution_count": 117,
   "metadata": {},
   "outputs": [
    {
     "data": {
      "text/plain": [
       "[1, 2, 3, 4]"
      ]
     },
     "execution_count": 117,
     "metadata": {},
     "output_type": "execute_result"
    }
   ],
   "source": [
    "[1,2]+[3,4]"
   ]
  }
 ],
 "metadata": {
  "kernelspec": {
   "display_name": "Python 3.8.5",
   "language": "python",
   "name": "python3"
  },
  "language_info": {
   "codemirror_mode": {
    "name": "ipython",
    "version": 3
   },
   "file_extension": ".py",
   "mimetype": "text/x-python",
   "name": "python",
   "nbconvert_exporter": "python",
   "pygments_lexer": "ipython3",
   "version": "3.8.5"
  },
  "orig_nbformat": 4,
  "vscode": {
   "interpreter": {
    "hash": "40d3a090f54c6569ab1632332b64b2c03c39dcf918b08424e98f38b5ae0af88f"
   }
  }
 },
 "nbformat": 4,
 "nbformat_minor": 2
}
